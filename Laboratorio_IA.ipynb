{
 "cells": [
  {
   "cell_type": "markdown",
   "metadata": {},
   "source": [
    "<img src=\"TB_Identificador.jpg\" width=\"45%\">"
   ]
  },
  {
   "cell_type": "markdown",
   "metadata": {},
   "source": [
    "# Laboratorio de Introducción a la Inteligencia Artificial"
   ]
  },
  {
   "cell_type": "markdown",
   "metadata": {},
   "source": [
    "## ¿Qué es la Inteligencia Artificial (IA)?\n",
    "La Inteligencia Artificial (IA) es una rama de la informática que busca construir sistemas capaces de realizar tareas que normalmente requieren de la inteligencia humana. Estas tareas incluyen la toma de decisiones, reconocimiento de patrones, procesamiento de lenguaje natural, y percepción visual, entre otras.\n",
    "\n",
    "En términos simples, la IA es una combinación de algoritmos y modelos matemáticos que permiten a las máquinas \"aprender\" a partir de datos, y así, realizar tareas específicas sin ser programadas de manera explícita para ello.\n",
    "\n",
    "### ¿Por qué es importante?\n",
    "La IA ha transformado y sigue transformando muchas industrias en todo el mundo. Desde sistemas de recomendación que sugieren cuál podría ser tu próxima película favorita en plataformas de streaming, hasta vehículos autónomos que pueden navegar en nuestras calles sin un conductor humano. Su potencial para mejorar la eficiencia, aumentar la personalización y resolver problemas complejos es inmenso.\n",
    "\n",
    "Además, la IA puede ser una herramienta vital para abordar algunos de los desafíos más grandes de nuestro tiempo, como el cambio climático, la medicina personalizada y la optimización de recursos en diversas áreas.\n"
   ]
  },
  {
   "cell_type": "markdown",
   "metadata": {},
   "source": [
    "### Objetivos del Laboratorio\n",
    "\n",
    "* Entender Conceptos Básicos de Programación.\n",
    "\n",
    "* Familiarizarse con Herramientas de Python.\n",
    "\n",
    "* Explorar ejemplos prácticos de IA.\n",
    "\n",
    "* Fomentar la Curiosidad y el Aprendizaje Continuo.\n",
    "\n",
    "---"
   ]
  },
  {
   "cell_type": "markdown",
   "metadata": {},
   "source": [
    "## Conceptos Básicos de Python\n",
    "\n",
    "Python es uno de los lenguajes de programación más populares y versátiles del mundo. Gracias a su sintaxis clara y legible, es ideal para principiantes y también es ampliamente utilizado en campos avanzados como la Inteligencia Artificial. Vamos a repasar algunos conceptos fundamentales."
   ]
  },
  {
   "cell_type": "markdown",
   "metadata": {
    "notebookRunGroups": {
     "groupValue": "1"
    }
   },
   "source": [
    "### Variables\n",
    "Una variable es como una caja en la que podemos guardar un valor para usarlo más tarde. En Python, no es necesario declarar el tipo de dato de la variable; se determina automáticamente.\n"
   ]
  },
  {
   "cell_type": "code",
   "execution_count": 1,
   "metadata": {},
   "outputs": [],
   "source": [
    "nombre = \"Esteban\" #String\n",
    "edad = 25 #Integer\n",
    "altura = 1.80 #Float\n",
    "es_estudiante = True #Boolean"
   ]
  },
  {
   "cell_type": "code",
   "execution_count": 2,
   "metadata": {},
   "outputs": [
    {
     "name": "stdout",
     "output_type": "stream",
     "text": [
      "Esteban\n"
     ]
    }
   ],
   "source": [
    "print(nombre) "
   ]
  },
  {
   "cell_type": "markdown",
   "metadata": {},
   "source": [
    "### Listas\n",
    "\n",
    "Las listas son contenedores que nos permiten almacenar múltiples valores en un solo lugar. Se definen usando corchetes []."
   ]
  },
  {
   "cell_type": "code",
   "execution_count": 3,
   "metadata": {},
   "outputs": [
    {
     "name": "stdout",
     "output_type": "stream",
     "text": [
      "manzana\n"
     ]
    }
   ],
   "source": [
    "frutas = [\"manzana\", \"limón\", \"cereza\"]\n",
    "numeros = [1, 2, 3, 4, 5] \n",
    "\n",
    "# Para acceder a un valor de la lista, usamos su índice:\n",
    "primer_fruta = frutas[0]  # Esto nos dará \"manzana\"\n",
    "\n",
    "print(primer_fruta)"
   ]
  },
  {
   "cell_type": "markdown",
   "metadata": {},
   "source": [
    "### Bucles\n",
    "Los bucles nos permiten ejecutar un bloque de código repetidamente. El bucle for es una herramienta común para iterar sobre listas."
   ]
  },
  {
   "cell_type": "code",
   "execution_count": 4,
   "metadata": {},
   "outputs": [
    {
     "name": "stdout",
     "output_type": "stream",
     "text": [
      "manzana\n",
      "limón\n",
      "cereza\n"
     ]
    }
   ],
   "source": [
    "# Este código imprimirá cada fruta de la lista\n",
    "for fruta in frutas:\n",
    "    print(fruta)"
   ]
  },
  {
   "cell_type": "markdown",
   "metadata": {},
   "source": [
    "### Funciones\n",
    "Las funciones son bloques de código reutilizables que realizan una tarea específica. Se definen usando la palabra clave def.\n"
   ]
  },
  {
   "cell_type": "code",
   "execution_count": 5,
   "metadata": {},
   "outputs": [
    {
     "name": "stdout",
     "output_type": "stream",
     "text": [
      "Hola, Esteban!\n"
     ]
    }
   ],
   "source": [
    "def saludar(nombre):\n",
    "    print(\"Hola, \" + nombre + \"!\")\n",
    "    \n",
    "saludar(\"Esteban\")  # Esto imprimirá \"Hola, Esteban!\"\n",
    "\n",
    "# Las funciones pueden recibir parámetros (como nombre en el ejemplo) y también pueden devolver valores usando la palabra clave return."
   ]
  },
  {
   "cell_type": "markdown",
   "metadata": {},
   "source": [
    "Con estos conceptos básicos, tienes las herramientas esenciales para comenzar a programar en Python. A medida que avances, te darás cuenta de la profundidad y versatilidad de este lenguaje. Continuaremos con herramientas más avanzadas y específicas para la IA en las siguientes secciones.\n",
    "\n",
    "---"
   ]
  },
  {
   "cell_type": "markdown",
   "metadata": {},
   "source": [
    "## Introducción NumPy\n",
    "\n",
    "NumPy (Numerical Python) es una de las bibliotecas más fundamentales para la computación numérica en Python. Proporciona soporte para trabajar con arrays (vectores y matrices) de gran tamaño y ofrece una amplia colección de funciones matemáticas para trabajar con estos arrays. Debido a su capacidad para realizar operaciones rápidas en arrays de datos sin requerir bucles explícitos, es ampliamente utilizado en tareas relacionadas con la Inteligencia Artificial (IA), especialmente en el procesamiento de datos y en áreas de álgebra lineal.\n",
    "\n",
    "<a href=\"https://numpy.org\">Link oficial a la librería de NumPy</a>"
   ]
  },
  {
   "cell_type": "markdown",
   "metadata": {},
   "source": [
    "### Operaciones Básicas\n"
   ]
  },
  {
   "cell_type": "markdown",
   "metadata": {},
   "source": [
    "#### Creación de Arrays"
   ]
  },
  {
   "cell_type": "code",
   "execution_count": 6,
   "metadata": {},
   "outputs": [
    {
     "name": "stdout",
     "output_type": "stream",
     "text": [
      "a: [1 2 3 4]\n",
      "b:\n",
      " [[1 2]\n",
      " [3 4]]\n"
     ]
    }
   ],
   "source": [
    "import numpy as np\n",
    "\n",
    "# Crear un array unidimensional\n",
    "a = np.array([1, 2, 3, 4])\n",
    "\n",
    "# Crear un array bidimensional (matriz)\n",
    "b = np.array([[1, 2], [3, 4]])\n",
    "\n",
    "print(\"a:\", a)\n",
    "print(\"b:\\n\", b)\n"
   ]
  },
  {
   "cell_type": "markdown",
   "metadata": {},
   "source": [
    "#### Operaciones Aritméticas"
   ]
  },
  {
   "cell_type": "code",
   "execution_count": 7,
   "metadata": {},
   "outputs": [
    {
     "name": "stdout",
     "output_type": "stream",
     "text": [
      "x + y = [5 7 9]\n",
      "x * y = [ 4 10 18]\n"
     ]
    }
   ],
   "source": [
    "x = np.array([1, 2, 3])\n",
    "y = np.array([4, 5, 6])\n",
    "\n",
    "# Suma\n",
    "z = x + y  # También se puede usar np.add(x, y)\n",
    "print(\"x + y =\", z)\n",
    "\n",
    "# Producto elemento a elemento\n",
    "z = x * y  # También se puede usar np.multiply(x, y)\n",
    "print(\"x * y =\", z)\n"
   ]
  },
  {
   "cell_type": "markdown",
   "metadata": {},
   "source": [
    "#### Funciones Matemáticas"
   ]
  },
  {
   "cell_type": "code",
   "execution_count": 8,
   "metadata": {},
   "outputs": [
    {
     "name": "stdout",
     "output_type": "stream",
     "text": [
      "seno: [0.84147098 0.90929743 0.14112001]\n",
      "exponencial: [ 2.71828183  7.3890561  20.08553692]\n"
     ]
    }
   ],
   "source": [
    "# Seno\n",
    "seno = np.sin(x)\n",
    "\n",
    "# Exponencial\n",
    "expo = np.exp(x)\n",
    "\n",
    "print(\"seno:\", seno)\n",
    "print(\"exponencial:\", expo)"
   ]
  },
  {
   "cell_type": "markdown",
   "metadata": {},
   "source": [
    "#### Álgebra Lineal"
   ]
  },
  {
   "cell_type": "code",
   "execution_count": 9,
   "metadata": {},
   "outputs": [
    {
     "name": "stdout",
     "output_type": "stream",
     "text": [
      "producto punto: 32\n",
      "b:\n",
      " [[1 2]\n",
      " [3 4]]\n",
      "transpuesta de b:\n",
      " [[1 3]\n",
      " [2 4]]\n"
     ]
    }
   ],
   "source": [
    "# Producto punto \n",
    "producto_punto = np.dot(x, y)\n",
    "print(\"producto punto:\", producto_punto)\n",
    "\n",
    "# Transposición\n",
    "transpuesta = b.T\n",
    "print(\"b:\\n\", b)\n",
    "print(\"transpuesta de b:\\n\", transpuesta)\n"
   ]
  },
  {
   "cell_type": "markdown",
   "metadata": {},
   "source": [
    "#### Uso en Inteligencia Artificial\n",
    "\n",
    "<b>Manejo de Datos:</b> En IA, a menudo trabajamos con grandes conjuntos de datos. NumPy permite manejar estos conjuntos de manera eficiente y proporciona herramientas para manipulación y preparación de datos.\n",
    "\n",
    "<b>Operaciones de Álgebra Lineal:</b> Muchos algoritmos de IA, especialmente en aprendizaje profundo, requieren intensivas operaciones de álgebra lineal. NumPy proporciona funciones optimizadas que hacen que estas operaciones sean rápidas y precisas.\n",
    "\n",
    "<b>Integración con Otras Bibliotecas:</b> Bibliotecas populares de IA como TensorFlow y PyTorch se integran bien con NumPy, permitiendo una transición fluida entre la preparación de datos en NumPy y el entrenamiento de modelos en estas bibliotecas.\n",
    "\n",
    "En resumen, NumPy es una herramienta esencial en el kit de herramientas de cualquier profesional o entusiasta de la IA. Las habilidades que adquieras con NumPy te servirán, ya sea que estés haciendo análisis de datos básicos o construyendo modelos de aprendizaje profundo avanzados. "
   ]
  },
  {
   "cell_type": "markdown",
   "metadata": {},
   "source": [
    "----"
   ]
  },
  {
   "cell_type": "markdown",
   "metadata": {},
   "source": [
    "## Introducción a Pandas\n",
    "\n",
    "Pandas es una poderosa biblioteca de Python que proporciona estructuras de datos y herramientas de análisis de datos. Es especialmente útil para manejar y analizar datos tabulares, como aquellos almacenados en hojas de cálculo o bases de datos. Pandas se integra bien con muchas otras bibliotecas de análisis de datos y visualización en Python, y es una herramienta esencial para cualquier científico de datos o analista.\n",
    "\n",
    "<a href=\"https://pandas.pydata.org\">Link oficial a la librería de Pandas</a>"
   ]
  },
  {
   "cell_type": "markdown",
   "metadata": {},
   "source": [
    "### Estructuras de Datos en Pandas\n",
    "Pandas introduce dos estructuras de datos principales:\n",
    "\n",
    "* <b>Series:</b> Es un array unidimensional similar a un vector. Puede contener cualquier tipo de datos (enteros, cadenas, números de punto flotante, objetos Python, etc.). Cada serie tiene índices.\n",
    "\n",
    "* <b>DataFrame:</b> Es similar a una tabla en una base de datos, una hoja de cálculo de Excel, o un data.frame en R. Consiste en una colección de series y cada serie en un DataFrame es una columna.\n",
    "\n"
   ]
  },
  {
   "cell_type": "markdown",
   "metadata": {},
   "source": [
    "### Cómo Leer un Conjunto de Datos\n",
    "\n",
    "Pandas proporciona funciones para leer diferentes formatos de archivo, desde CSV hasta Excel y muchos otros."
   ]
  },
  {
   "cell_type": "code",
   "execution_count": 10,
   "metadata": {},
   "outputs": [],
   "source": [
    "import pandas as pd\n",
    "\n",
    "# Leer un archivo CSV\n",
    "df = pd.read_csv('iris.csv')\n",
    "\n",
    "# Leer un archivo Excel\n",
    "# df = pd.read_excel('archivo.xlsx')"
   ]
  },
  {
   "cell_type": "markdown",
   "metadata": {},
   "source": [
    "Hay muchos conjuntos de datos populares que se utilizan con fines educativos y demostrativos en el mundo del aprendizaje automático y la inteligencia artificial. En este caso utilizaremos el dataset de iris, el cual se usa para la clasificación de especies de iris basado en las medidas de sus flores. Las variables que contiene el anterior dataframe son las siguientes:\n",
    "\n",
    "* Id - Identificador de la flor\n",
    "* SepalLengthCm - Longitud del sépalo (cm)\n",
    "* SepalWidthCm  - Ancho del sépalo (cm)\n",
    "* PetalLengthCm - Longitud del pétalo (cm)\n",
    "* PetalWidthCm  - Anch del pétalo (cm)\n",
    "* Species       - Especie de iris"
   ]
  },
  {
   "cell_type": "markdown",
   "metadata": {},
   "source": [
    "### Operaciones Básicas - Inspeccionar Datos "
   ]
  },
  {
   "cell_type": "code",
   "execution_count": 11,
   "metadata": {},
   "outputs": [
    {
     "data": {
      "text/html": [
       "<div>\n",
       "<style scoped>\n",
       "    .dataframe tbody tr th:only-of-type {\n",
       "        vertical-align: middle;\n",
       "    }\n",
       "\n",
       "    .dataframe tbody tr th {\n",
       "        vertical-align: top;\n",
       "    }\n",
       "\n",
       "    .dataframe thead th {\n",
       "        text-align: right;\n",
       "    }\n",
       "</style>\n",
       "<table border=\"1\" class=\"dataframe\">\n",
       "  <thead>\n",
       "    <tr style=\"text-align: right;\">\n",
       "      <th></th>\n",
       "      <th>Id</th>\n",
       "      <th>SepalLengthCm</th>\n",
       "      <th>SepalWidthCm</th>\n",
       "      <th>PetalLengthCm</th>\n",
       "      <th>PetalWidthCm</th>\n",
       "      <th>Species</th>\n",
       "    </tr>\n",
       "  </thead>\n",
       "  <tbody>\n",
       "    <tr>\n",
       "      <th>0</th>\n",
       "      <td>1</td>\n",
       "      <td>5.1</td>\n",
       "      <td>3.5</td>\n",
       "      <td>1.4</td>\n",
       "      <td>0.2</td>\n",
       "      <td>Iris-setosa</td>\n",
       "    </tr>\n",
       "    <tr>\n",
       "      <th>1</th>\n",
       "      <td>2</td>\n",
       "      <td>4.9</td>\n",
       "      <td>3.0</td>\n",
       "      <td>1.4</td>\n",
       "      <td>0.2</td>\n",
       "      <td>Iris-setosa</td>\n",
       "    </tr>\n",
       "    <tr>\n",
       "      <th>2</th>\n",
       "      <td>3</td>\n",
       "      <td>4.7</td>\n",
       "      <td>3.2</td>\n",
       "      <td>1.3</td>\n",
       "      <td>0.2</td>\n",
       "      <td>Iris-setosa</td>\n",
       "    </tr>\n",
       "    <tr>\n",
       "      <th>3</th>\n",
       "      <td>4</td>\n",
       "      <td>4.6</td>\n",
       "      <td>3.1</td>\n",
       "      <td>1.5</td>\n",
       "      <td>0.2</td>\n",
       "      <td>Iris-setosa</td>\n",
       "    </tr>\n",
       "    <tr>\n",
       "      <th>4</th>\n",
       "      <td>5</td>\n",
       "      <td>5.0</td>\n",
       "      <td>3.6</td>\n",
       "      <td>1.4</td>\n",
       "      <td>0.2</td>\n",
       "      <td>Iris-setosa</td>\n",
       "    </tr>\n",
       "  </tbody>\n",
       "</table>\n",
       "</div>"
      ],
      "text/plain": [
       "   Id  SepalLengthCm  SepalWidthCm  PetalLengthCm  PetalWidthCm      Species\n",
       "0   1            5.1           3.5            1.4           0.2  Iris-setosa\n",
       "1   2            4.9           3.0            1.4           0.2  Iris-setosa\n",
       "2   3            4.7           3.2            1.3           0.2  Iris-setosa\n",
       "3   4            4.6           3.1            1.5           0.2  Iris-setosa\n",
       "4   5            5.0           3.6            1.4           0.2  Iris-setosa"
      ]
     },
     "execution_count": 11,
     "metadata": {},
     "output_type": "execute_result"
    }
   ],
   "source": [
    "# Ver las primeras filas del DataFrame\n",
    "df.head()"
   ]
  },
  {
   "cell_type": "code",
   "execution_count": 13,
   "metadata": {},
   "outputs": [
    {
     "data": {
      "text/html": [
       "<div>\n",
       "<style scoped>\n",
       "    .dataframe tbody tr th:only-of-type {\n",
       "        vertical-align: middle;\n",
       "    }\n",
       "\n",
       "    .dataframe tbody tr th {\n",
       "        vertical-align: top;\n",
       "    }\n",
       "\n",
       "    .dataframe thead th {\n",
       "        text-align: right;\n",
       "    }\n",
       "</style>\n",
       "<table border=\"1\" class=\"dataframe\">\n",
       "  <thead>\n",
       "    <tr style=\"text-align: right;\">\n",
       "      <th></th>\n",
       "      <th>Id</th>\n",
       "      <th>SepalLengthCm</th>\n",
       "      <th>SepalWidthCm</th>\n",
       "      <th>PetalLengthCm</th>\n",
       "      <th>PetalWidthCm</th>\n",
       "      <th>Species</th>\n",
       "    </tr>\n",
       "  </thead>\n",
       "  <tbody>\n",
       "    <tr>\n",
       "      <th>145</th>\n",
       "      <td>146</td>\n",
       "      <td>6.7</td>\n",
       "      <td>3.0</td>\n",
       "      <td>5.2</td>\n",
       "      <td>2.3</td>\n",
       "      <td>Iris-virginica</td>\n",
       "    </tr>\n",
       "    <tr>\n",
       "      <th>146</th>\n",
       "      <td>147</td>\n",
       "      <td>6.3</td>\n",
       "      <td>2.5</td>\n",
       "      <td>5.0</td>\n",
       "      <td>1.9</td>\n",
       "      <td>Iris-virginica</td>\n",
       "    </tr>\n",
       "    <tr>\n",
       "      <th>147</th>\n",
       "      <td>148</td>\n",
       "      <td>6.5</td>\n",
       "      <td>3.0</td>\n",
       "      <td>5.2</td>\n",
       "      <td>2.0</td>\n",
       "      <td>Iris-virginica</td>\n",
       "    </tr>\n",
       "    <tr>\n",
       "      <th>148</th>\n",
       "      <td>149</td>\n",
       "      <td>6.2</td>\n",
       "      <td>3.4</td>\n",
       "      <td>5.4</td>\n",
       "      <td>2.3</td>\n",
       "      <td>Iris-virginica</td>\n",
       "    </tr>\n",
       "    <tr>\n",
       "      <th>149</th>\n",
       "      <td>150</td>\n",
       "      <td>5.9</td>\n",
       "      <td>3.0</td>\n",
       "      <td>5.1</td>\n",
       "      <td>1.8</td>\n",
       "      <td>Iris-virginica</td>\n",
       "    </tr>\n",
       "  </tbody>\n",
       "</table>\n",
       "</div>"
      ],
      "text/plain": [
       "      Id  SepalLengthCm  SepalWidthCm  PetalLengthCm  PetalWidthCm  \\\n",
       "145  146            6.7           3.0            5.2           2.3   \n",
       "146  147            6.3           2.5            5.0           1.9   \n",
       "147  148            6.5           3.0            5.2           2.0   \n",
       "148  149            6.2           3.4            5.4           2.3   \n",
       "149  150            5.9           3.0            5.1           1.8   \n",
       "\n",
       "            Species  \n",
       "145  Iris-virginica  \n",
       "146  Iris-virginica  \n",
       "147  Iris-virginica  \n",
       "148  Iris-virginica  \n",
       "149  Iris-virginica  "
      ]
     },
     "execution_count": 13,
     "metadata": {},
     "output_type": "execute_result"
    }
   ],
   "source": [
    "# Ver las últimas filas\n",
    "df.tail()"
   ]
  },
  {
   "cell_type": "code",
   "execution_count": 14,
   "metadata": {},
   "outputs": [
    {
     "name": "stdout",
     "output_type": "stream",
     "text": [
      "<class 'pandas.core.frame.DataFrame'>\n",
      "RangeIndex: 150 entries, 0 to 149\n",
      "Data columns (total 6 columns):\n",
      " #   Column         Non-Null Count  Dtype  \n",
      "---  ------         --------------  -----  \n",
      " 0   Id             150 non-null    int64  \n",
      " 1   SepalLengthCm  150 non-null    float64\n",
      " 2   SepalWidthCm   150 non-null    float64\n",
      " 3   PetalLengthCm  150 non-null    float64\n",
      " 4   PetalWidthCm   150 non-null    float64\n",
      " 5   Species        150 non-null    object \n",
      "dtypes: float64(4), int64(1), object(1)\n",
      "memory usage: 7.2+ KB\n"
     ]
    }
   ],
   "source": [
    "# Ver información general del DataFrame (tipos de datos, número de entradas, etc.)\n",
    "df.info()"
   ]
  },
  {
   "cell_type": "markdown",
   "metadata": {},
   "source": [
    "### Operaciones Básicas - Selección y Filtrado\n",
    "\n"
   ]
  },
  {
   "cell_type": "code",
   "execution_count": 15,
   "metadata": {},
   "outputs": [
    {
     "data": {
      "text/plain": [
       "0    Iris-setosa\n",
       "1    Iris-setosa\n",
       "2    Iris-setosa\n",
       "3    Iris-setosa\n",
       "4    Iris-setosa\n",
       "Name: Species, dtype: object"
      ]
     },
     "execution_count": 15,
     "metadata": {},
     "output_type": "execute_result"
    }
   ],
   "source": [
    "# Seleccionar una columna por nombre\n",
    "columna_especie = df['Species']\n",
    "\n",
    "columna_especie.head()"
   ]
  },
  {
   "cell_type": "code",
   "execution_count": 16,
   "metadata": {},
   "outputs": [
    {
     "data": {
      "text/html": [
       "<div>\n",
       "<style scoped>\n",
       "    .dataframe tbody tr th:only-of-type {\n",
       "        vertical-align: middle;\n",
       "    }\n",
       "\n",
       "    .dataframe tbody tr th {\n",
       "        vertical-align: top;\n",
       "    }\n",
       "\n",
       "    .dataframe thead th {\n",
       "        text-align: right;\n",
       "    }\n",
       "</style>\n",
       "<table border=\"1\" class=\"dataframe\">\n",
       "  <thead>\n",
       "    <tr style=\"text-align: right;\">\n",
       "      <th></th>\n",
       "      <th>Species</th>\n",
       "      <th>SepalLengthCm</th>\n",
       "    </tr>\n",
       "  </thead>\n",
       "  <tbody>\n",
       "    <tr>\n",
       "      <th>0</th>\n",
       "      <td>Iris-setosa</td>\n",
       "      <td>5.1</td>\n",
       "    </tr>\n",
       "    <tr>\n",
       "      <th>1</th>\n",
       "      <td>Iris-setosa</td>\n",
       "      <td>4.9</td>\n",
       "    </tr>\n",
       "    <tr>\n",
       "      <th>2</th>\n",
       "      <td>Iris-setosa</td>\n",
       "      <td>4.7</td>\n",
       "    </tr>\n",
       "    <tr>\n",
       "      <th>3</th>\n",
       "      <td>Iris-setosa</td>\n",
       "      <td>4.6</td>\n",
       "    </tr>\n",
       "    <tr>\n",
       "      <th>4</th>\n",
       "      <td>Iris-setosa</td>\n",
       "      <td>5.0</td>\n",
       "    </tr>\n",
       "    <tr>\n",
       "      <th>...</th>\n",
       "      <td>...</td>\n",
       "      <td>...</td>\n",
       "    </tr>\n",
       "    <tr>\n",
       "      <th>145</th>\n",
       "      <td>Iris-virginica</td>\n",
       "      <td>6.7</td>\n",
       "    </tr>\n",
       "    <tr>\n",
       "      <th>146</th>\n",
       "      <td>Iris-virginica</td>\n",
       "      <td>6.3</td>\n",
       "    </tr>\n",
       "    <tr>\n",
       "      <th>147</th>\n",
       "      <td>Iris-virginica</td>\n",
       "      <td>6.5</td>\n",
       "    </tr>\n",
       "    <tr>\n",
       "      <th>148</th>\n",
       "      <td>Iris-virginica</td>\n",
       "      <td>6.2</td>\n",
       "    </tr>\n",
       "    <tr>\n",
       "      <th>149</th>\n",
       "      <td>Iris-virginica</td>\n",
       "      <td>5.9</td>\n",
       "    </tr>\n",
       "  </tbody>\n",
       "</table>\n",
       "<p>150 rows × 2 columns</p>\n",
       "</div>"
      ],
      "text/plain": [
       "            Species  SepalLengthCm\n",
       "0       Iris-setosa            5.1\n",
       "1       Iris-setosa            4.9\n",
       "2       Iris-setosa            4.7\n",
       "3       Iris-setosa            4.6\n",
       "4       Iris-setosa            5.0\n",
       "..              ...            ...\n",
       "145  Iris-virginica            6.7\n",
       "146  Iris-virginica            6.3\n",
       "147  Iris-virginica            6.5\n",
       "148  Iris-virginica            6.2\n",
       "149  Iris-virginica            5.9\n",
       "\n",
       "[150 rows x 2 columns]"
      ]
     },
     "execution_count": 16,
     "metadata": {},
     "output_type": "execute_result"
    }
   ],
   "source": [
    "# Seleccionar varias columnas\n",
    "subset = df[['Species', 'SepalLengthCm']]\n",
    "\n",
    "subset"
   ]
  },
  {
   "cell_type": "code",
   "execution_count": 17,
   "metadata": {},
   "outputs": [
    {
     "data": {
      "text/html": [
       "<div>\n",
       "<style scoped>\n",
       "    .dataframe tbody tr th:only-of-type {\n",
       "        vertical-align: middle;\n",
       "    }\n",
       "\n",
       "    .dataframe tbody tr th {\n",
       "        vertical-align: top;\n",
       "    }\n",
       "\n",
       "    .dataframe thead th {\n",
       "        text-align: right;\n",
       "    }\n",
       "</style>\n",
       "<table border=\"1\" class=\"dataframe\">\n",
       "  <thead>\n",
       "    <tr style=\"text-align: right;\">\n",
       "      <th></th>\n",
       "      <th>Id</th>\n",
       "      <th>SepalLengthCm</th>\n",
       "      <th>SepalWidthCm</th>\n",
       "      <th>PetalLengthCm</th>\n",
       "      <th>PetalWidthCm</th>\n",
       "      <th>Species</th>\n",
       "    </tr>\n",
       "  </thead>\n",
       "  <tbody>\n",
       "    <tr>\n",
       "      <th>50</th>\n",
       "      <td>51</td>\n",
       "      <td>7.0</td>\n",
       "      <td>3.2</td>\n",
       "      <td>4.7</td>\n",
       "      <td>1.4</td>\n",
       "      <td>Iris-versicolor</td>\n",
       "    </tr>\n",
       "    <tr>\n",
       "      <th>51</th>\n",
       "      <td>52</td>\n",
       "      <td>6.4</td>\n",
       "      <td>3.2</td>\n",
       "      <td>4.5</td>\n",
       "      <td>1.5</td>\n",
       "      <td>Iris-versicolor</td>\n",
       "    </tr>\n",
       "    <tr>\n",
       "      <th>52</th>\n",
       "      <td>53</td>\n",
       "      <td>6.9</td>\n",
       "      <td>3.1</td>\n",
       "      <td>4.9</td>\n",
       "      <td>1.5</td>\n",
       "      <td>Iris-versicolor</td>\n",
       "    </tr>\n",
       "    <tr>\n",
       "      <th>54</th>\n",
       "      <td>55</td>\n",
       "      <td>6.5</td>\n",
       "      <td>2.8</td>\n",
       "      <td>4.6</td>\n",
       "      <td>1.5</td>\n",
       "      <td>Iris-versicolor</td>\n",
       "    </tr>\n",
       "    <tr>\n",
       "      <th>58</th>\n",
       "      <td>59</td>\n",
       "      <td>6.6</td>\n",
       "      <td>2.9</td>\n",
       "      <td>4.6</td>\n",
       "      <td>1.3</td>\n",
       "      <td>Iris-versicolor</td>\n",
       "    </tr>\n",
       "  </tbody>\n",
       "</table>\n",
       "</div>"
      ],
      "text/plain": [
       "    Id  SepalLengthCm  SepalWidthCm  PetalLengthCm  PetalWidthCm  \\\n",
       "50  51            7.0           3.2            4.7           1.4   \n",
       "51  52            6.4           3.2            4.5           1.5   \n",
       "52  53            6.9           3.1            4.9           1.5   \n",
       "54  55            6.5           2.8            4.6           1.5   \n",
       "58  59            6.6           2.9            4.6           1.3   \n",
       "\n",
       "            Species  \n",
       "50  Iris-versicolor  \n",
       "51  Iris-versicolor  \n",
       "52  Iris-versicolor  \n",
       "54  Iris-versicolor  \n",
       "58  Iris-versicolor  "
      ]
     },
     "execution_count": 17,
     "metadata": {},
     "output_type": "execute_result"
    }
   ],
   "source": [
    "# Filtrar filas basadas en condiciones\n",
    "filtro = df[df['SepalLengthCm'] > 6.3]\n",
    "\n",
    "filtro.head()"
   ]
  },
  {
   "cell_type": "markdown",
   "metadata": {},
   "source": [
    "### Operaciones Básicas - Manipulación de Datos"
   ]
  },
  {
   "cell_type": "code",
   "execution_count": 18,
   "metadata": {},
   "outputs": [
    {
     "data": {
      "text/html": [
       "<div>\n",
       "<style scoped>\n",
       "    .dataframe tbody tr th:only-of-type {\n",
       "        vertical-align: middle;\n",
       "    }\n",
       "\n",
       "    .dataframe tbody tr th {\n",
       "        vertical-align: top;\n",
       "    }\n",
       "\n",
       "    .dataframe thead th {\n",
       "        text-align: right;\n",
       "    }\n",
       "</style>\n",
       "<table border=\"1\" class=\"dataframe\">\n",
       "  <thead>\n",
       "    <tr style=\"text-align: right;\">\n",
       "      <th></th>\n",
       "      <th>Id</th>\n",
       "      <th>SepalLengthCm</th>\n",
       "      <th>SepalWidthCm</th>\n",
       "      <th>PetalLengthCm</th>\n",
       "      <th>PetalWidthCm</th>\n",
       "      <th>Species</th>\n",
       "      <th>sep - long/ancho</th>\n",
       "    </tr>\n",
       "  </thead>\n",
       "  <tbody>\n",
       "    <tr>\n",
       "      <th>0</th>\n",
       "      <td>1</td>\n",
       "      <td>5.1</td>\n",
       "      <td>3.5</td>\n",
       "      <td>1.4</td>\n",
       "      <td>0.2</td>\n",
       "      <td>Iris-setosa</td>\n",
       "      <td>1.457143</td>\n",
       "    </tr>\n",
       "    <tr>\n",
       "      <th>1</th>\n",
       "      <td>2</td>\n",
       "      <td>4.9</td>\n",
       "      <td>3.0</td>\n",
       "      <td>1.4</td>\n",
       "      <td>0.2</td>\n",
       "      <td>Iris-setosa</td>\n",
       "      <td>1.633333</td>\n",
       "    </tr>\n",
       "    <tr>\n",
       "      <th>2</th>\n",
       "      <td>3</td>\n",
       "      <td>4.7</td>\n",
       "      <td>3.2</td>\n",
       "      <td>1.3</td>\n",
       "      <td>0.2</td>\n",
       "      <td>Iris-setosa</td>\n",
       "      <td>1.468750</td>\n",
       "    </tr>\n",
       "    <tr>\n",
       "      <th>3</th>\n",
       "      <td>4</td>\n",
       "      <td>4.6</td>\n",
       "      <td>3.1</td>\n",
       "      <td>1.5</td>\n",
       "      <td>0.2</td>\n",
       "      <td>Iris-setosa</td>\n",
       "      <td>1.483871</td>\n",
       "    </tr>\n",
       "    <tr>\n",
       "      <th>4</th>\n",
       "      <td>5</td>\n",
       "      <td>5.0</td>\n",
       "      <td>3.6</td>\n",
       "      <td>1.4</td>\n",
       "      <td>0.2</td>\n",
       "      <td>Iris-setosa</td>\n",
       "      <td>1.388889</td>\n",
       "    </tr>\n",
       "  </tbody>\n",
       "</table>\n",
       "</div>"
      ],
      "text/plain": [
       "   Id  SepalLengthCm  SepalWidthCm  PetalLengthCm  PetalWidthCm      Species  \\\n",
       "0   1            5.1           3.5            1.4           0.2  Iris-setosa   \n",
       "1   2            4.9           3.0            1.4           0.2  Iris-setosa   \n",
       "2   3            4.7           3.2            1.3           0.2  Iris-setosa   \n",
       "3   4            4.6           3.1            1.5           0.2  Iris-setosa   \n",
       "4   5            5.0           3.6            1.4           0.2  Iris-setosa   \n",
       "\n",
       "   sep - long/ancho  \n",
       "0          1.457143  \n",
       "1          1.633333  \n",
       "2          1.468750  \n",
       "3          1.483871  \n",
       "4          1.388889  "
      ]
     },
     "execution_count": 18,
     "metadata": {},
     "output_type": "execute_result"
    }
   ],
   "source": [
    "# Crear una nueva columna como resultado de operaciones entre otras columnas\n",
    "df['sep - long/ancho'] = df['SepalLengthCm'] / df['SepalWidthCm']\n",
    "\n",
    "df.head()"
   ]
  },
  {
   "cell_type": "code",
   "execution_count": 19,
   "metadata": {},
   "outputs": [
    {
     "data": {
      "text/html": [
       "<div>\n",
       "<style scoped>\n",
       "    .dataframe tbody tr th:only-of-type {\n",
       "        vertical-align: middle;\n",
       "    }\n",
       "\n",
       "    .dataframe tbody tr th {\n",
       "        vertical-align: top;\n",
       "    }\n",
       "\n",
       "    .dataframe thead th {\n",
       "        text-align: right;\n",
       "    }\n",
       "</style>\n",
       "<table border=\"1\" class=\"dataframe\">\n",
       "  <thead>\n",
       "    <tr style=\"text-align: right;\">\n",
       "      <th></th>\n",
       "      <th>Id</th>\n",
       "      <th>SepalLengthCm</th>\n",
       "      <th>SepalWidthCm</th>\n",
       "      <th>PetalLengthCm</th>\n",
       "      <th>PetalWidthCm</th>\n",
       "      <th>Species</th>\n",
       "    </tr>\n",
       "  </thead>\n",
       "  <tbody>\n",
       "    <tr>\n",
       "      <th>0</th>\n",
       "      <td>1</td>\n",
       "      <td>5.1</td>\n",
       "      <td>3.5</td>\n",
       "      <td>1.4</td>\n",
       "      <td>0.2</td>\n",
       "      <td>Iris-setosa</td>\n",
       "    </tr>\n",
       "    <tr>\n",
       "      <th>1</th>\n",
       "      <td>2</td>\n",
       "      <td>4.9</td>\n",
       "      <td>3.0</td>\n",
       "      <td>1.4</td>\n",
       "      <td>0.2</td>\n",
       "      <td>Iris-setosa</td>\n",
       "    </tr>\n",
       "    <tr>\n",
       "      <th>2</th>\n",
       "      <td>3</td>\n",
       "      <td>4.7</td>\n",
       "      <td>3.2</td>\n",
       "      <td>1.3</td>\n",
       "      <td>0.2</td>\n",
       "      <td>Iris-setosa</td>\n",
       "    </tr>\n",
       "    <tr>\n",
       "      <th>3</th>\n",
       "      <td>4</td>\n",
       "      <td>4.6</td>\n",
       "      <td>3.1</td>\n",
       "      <td>1.5</td>\n",
       "      <td>0.2</td>\n",
       "      <td>Iris-setosa</td>\n",
       "    </tr>\n",
       "    <tr>\n",
       "      <th>4</th>\n",
       "      <td>5</td>\n",
       "      <td>5.0</td>\n",
       "      <td>3.6</td>\n",
       "      <td>1.4</td>\n",
       "      <td>0.2</td>\n",
       "      <td>Iris-setosa</td>\n",
       "    </tr>\n",
       "  </tbody>\n",
       "</table>\n",
       "</div>"
      ],
      "text/plain": [
       "   Id  SepalLengthCm  SepalWidthCm  PetalLengthCm  PetalWidthCm      Species\n",
       "0   1            5.1           3.5            1.4           0.2  Iris-setosa\n",
       "1   2            4.9           3.0            1.4           0.2  Iris-setosa\n",
       "2   3            4.7           3.2            1.3           0.2  Iris-setosa\n",
       "3   4            4.6           3.1            1.5           0.2  Iris-setosa\n",
       "4   5            5.0           3.6            1.4           0.2  Iris-setosa"
      ]
     },
     "execution_count": 19,
     "metadata": {},
     "output_type": "execute_result"
    }
   ],
   "source": [
    "# Eliminar una columna\n",
    "df.drop('sep - long/ancho', axis=1, inplace=True)\n",
    "\n",
    "df.head()"
   ]
  },
  {
   "cell_type": "code",
   "execution_count": 20,
   "metadata": {},
   "outputs": [
    {
     "data": {
      "text/html": [
       "<div>\n",
       "<style scoped>\n",
       "    .dataframe tbody tr th:only-of-type {\n",
       "        vertical-align: middle;\n",
       "    }\n",
       "\n",
       "    .dataframe tbody tr th {\n",
       "        vertical-align: top;\n",
       "    }\n",
       "\n",
       "    .dataframe thead th {\n",
       "        text-align: right;\n",
       "    }\n",
       "</style>\n",
       "<table border=\"1\" class=\"dataframe\">\n",
       "  <thead>\n",
       "    <tr style=\"text-align: right;\">\n",
       "      <th></th>\n",
       "      <th>Id</th>\n",
       "      <th>Longitud del sépalo</th>\n",
       "      <th>SepalWidthCm</th>\n",
       "      <th>Longitud del pétalo</th>\n",
       "      <th>PetalWidthCm</th>\n",
       "      <th>Species</th>\n",
       "    </tr>\n",
       "  </thead>\n",
       "  <tbody>\n",
       "    <tr>\n",
       "      <th>0</th>\n",
       "      <td>1</td>\n",
       "      <td>5.1</td>\n",
       "      <td>3.5</td>\n",
       "      <td>1.4</td>\n",
       "      <td>0.2</td>\n",
       "      <td>Iris-setosa</td>\n",
       "    </tr>\n",
       "    <tr>\n",
       "      <th>1</th>\n",
       "      <td>2</td>\n",
       "      <td>4.9</td>\n",
       "      <td>3.0</td>\n",
       "      <td>1.4</td>\n",
       "      <td>0.2</td>\n",
       "      <td>Iris-setosa</td>\n",
       "    </tr>\n",
       "    <tr>\n",
       "      <th>2</th>\n",
       "      <td>3</td>\n",
       "      <td>4.7</td>\n",
       "      <td>3.2</td>\n",
       "      <td>1.3</td>\n",
       "      <td>0.2</td>\n",
       "      <td>Iris-setosa</td>\n",
       "    </tr>\n",
       "    <tr>\n",
       "      <th>3</th>\n",
       "      <td>4</td>\n",
       "      <td>4.6</td>\n",
       "      <td>3.1</td>\n",
       "      <td>1.5</td>\n",
       "      <td>0.2</td>\n",
       "      <td>Iris-setosa</td>\n",
       "    </tr>\n",
       "    <tr>\n",
       "      <th>4</th>\n",
       "      <td>5</td>\n",
       "      <td>5.0</td>\n",
       "      <td>3.6</td>\n",
       "      <td>1.4</td>\n",
       "      <td>0.2</td>\n",
       "      <td>Iris-setosa</td>\n",
       "    </tr>\n",
       "  </tbody>\n",
       "</table>\n",
       "</div>"
      ],
      "text/plain": [
       "   Id  Longitud del sépalo  SepalWidthCm  Longitud del pétalo  PetalWidthCm  \\\n",
       "0   1                  5.1           3.5                  1.4           0.2   \n",
       "1   2                  4.9           3.0                  1.4           0.2   \n",
       "2   3                  4.7           3.2                  1.3           0.2   \n",
       "3   4                  4.6           3.1                  1.5           0.2   \n",
       "4   5                  5.0           3.6                  1.4           0.2   \n",
       "\n",
       "       Species  \n",
       "0  Iris-setosa  \n",
       "1  Iris-setosa  \n",
       "2  Iris-setosa  \n",
       "3  Iris-setosa  \n",
       "4  Iris-setosa  "
      ]
     },
     "execution_count": 20,
     "metadata": {},
     "output_type": "execute_result"
    }
   ],
   "source": [
    "# Renombrar columnas\n",
    "df.rename(columns={'SepalLengthCm': 'Longitud del sépalo', 'PetalLengthCm': 'Longitud del pétalo'}, inplace=True)\n",
    "\n",
    "df.head()"
   ]
  },
  {
   "cell_type": "markdown",
   "metadata": {},
   "source": [
    "Pandas hace que el manejo y análisis de datos sea intuitivo y eficiente. Ya sea que estés limpiando datos, realizando análisis exploratorio o preparando datos para entrenar un modelo de IA, Pandas es una herramienta invaluable."
   ]
  },
  {
   "cell_type": "markdown",
   "metadata": {},
   "source": [
    "## Ejemplo Sencillo de IA: Clasificación de Iris con Scikit-learn"
   ]
  },
  {
   "cell_type": "markdown",
   "metadata": {},
   "source": [
    "Adentrándonos en el mundo del aprendizaje automático, el conjunto de datos Iris se presenta como uno de nuestros primeros y más icónicos desafíos. A través de este simple pero ilustrativo ejemplo, exploraremos los fundamentos de la clasificación utilizando scikit-learn, introduciéndonos paso a paso en la construcción y evaluación de modelos en Python.\n",
    "\n",
    "<a href=\"https://scikit-learn.org/stable/\">Link oficial a Scikit-learn</a>\n",
    "\n",
    "<center> <img src=https://consultorjava.com/blog/wp-content/uploads/2019/03/ciclo_vida_machine_learning.png width=\"50%\"> </center>\n",
    "\n",
    "\n"
   ]
  },
  {
   "cell_type": "code",
   "execution_count": 21,
   "metadata": {},
   "outputs": [
    {
     "name": "stderr",
     "output_type": "stream",
     "text": [
      "c:\\Users\\esteb\\anaconda3\\lib\\site-packages\\scipy\\__init__.py:155: UserWarning: A NumPy version >=1.18.5 and <1.25.0 is required for this version of SciPy (detected version 1.26.0\n",
      "  warnings.warn(f\"A NumPy version >={np_minversion} and <{np_maxversion}\"\n"
     ]
    }
   ],
   "source": [
    "# Importar las bibliotecas necesarias\n",
    "import pandas as pd\n",
    "import numpy as np\n",
    "import seaborn as sns\n",
    "import matplotlib.pyplot as plt\n",
    "from sklearn.model_selection import train_test_split\n",
    "from sklearn.neighbors import KNeighborsClassifier\n",
    "from sklearn.metrics import classification_report, confusion_matrix\n",
    "\n",
    "# Leer el archivo CSV\n",
    "df_iris = pd.read_csv('iris.csv')"
   ]
  },
  {
   "cell_type": "markdown",
   "metadata": {},
   "source": [
    "### 1. Exploración de datos"
   ]
  },
  {
   "cell_type": "code",
   "execution_count": 22,
   "metadata": {},
   "outputs": [
    {
     "name": "stdout",
     "output_type": "stream",
     "text": [
      "   Id  Longitud del sépalo  SepalWidthCm  Longitud del pétalo  PetalWidthCm  \\\n",
      "0   1                  5.1           3.5                  1.4           0.2   \n",
      "1   2                  4.9           3.0                  1.4           0.2   \n",
      "2   3                  4.7           3.2                  1.3           0.2   \n",
      "3   4                  4.6           3.1                  1.5           0.2   \n",
      "4   5                  5.0           3.6                  1.4           0.2   \n",
      "\n",
      "       Species  \n",
      "0  Iris-setosa  \n",
      "1  Iris-setosa  \n",
      "2  Iris-setosa  \n",
      "3  Iris-setosa  \n",
      "4  Iris-setosa  \n"
     ]
    },
    {
     "data": {
      "image/png": "[encoded data removed]",
      "text/plain": [
       "<Figure size 640x480 with 1 Axes>"
      ]
     },
     "metadata": {},
     "output_type": "display_data"
    }
   ],
   "source": [
    "print(df.head())\n",
    "\n",
    "# Visualización básica: distribución de clases\n",
    "sns.countplot(x='Species', data=df_iris)\n",
    "plt.show()"
   ]
  },
  {
   "cell_type": "markdown",
   "metadata": {},
   "source": [
    " ### 2. Dividir los datos en conjuntos de entrenamiento y prueba"
   ]
  },
  {
   "cell_type": "code",
   "execution_count": 23,
   "metadata": {},
   "outputs": [],
   "source": [
    "X = df_iris.drop('Species', axis=1) # Eliminar la columna de especies para obtener las características (lo que usaremos para predecir)\n",
    "y = df_iris['Species'] # Usar la columna de especies como etiquetas (lo que queremos predecir)\n",
    "\n",
    "# Dividir el conjunto de datos en entrenamiento y prueba\n",
    "X_train, X_test, y_train, y_test = train_test_split(X, y, test_size=0.3) # 70% para entrenamiento, 30% para prueba"
   ]
  },
  {
   "cell_type": "markdown",
   "metadata": {},
   "source": [
    "### 3. Entrenar un modelo simple (clasificador k-NN):"
   ]
  },
  {
   "cell_type": "markdown",
   "metadata": {},
   "source": [
    "El algoritmo k-NN, o \"k vecinos más cercanos\", es como preguntar a un grupo de amigos cercanos (k amigos) su opinión sobre un tema y decidir basándose en sus respuestas más comunes. En el contexto de aprendizaje automático, si tienes un punto de datos y quieres clasificarlo, simplemente miras los \"k\" puntos más cercanos y ves qué categoría o etiqueta es la más común entre ellos, y así asignas esa etiqueta al punto en cuestión. Es una forma sencilla y directa de hacer predicciones basadas en similitudes.\n",
    "\n",
    "Para mayor información: <a href=\"https://www.ibm.com/mx-es/topics/knn#:~:text=Próximos%20pasos-,¿Qué%20es%20KNN%3F,un%20punto%20de%20datos%20individual.\">¿Qué es KNN?</a>\n",
    "\n",
    "<center> <img src=https://panamahitek.com/wp-content/uploads/2023/01/Pasted-20.png width=\"30%\">"
   ]
  },
  {
   "cell_type": "code",
   "execution_count": 24,
   "metadata": {},
   "outputs": [
    {
     "data": {
      "text/plain": [
       "KNeighborsClassifier(n_neighbors=3)"
      ]
     },
     "execution_count": 24,
     "metadata": {},
     "output_type": "execute_result"
    }
   ],
   "source": [
    "# Inicializar el clasificador k-NN con k=3\n",
    "# k es el número de vecinos más cercanos que se usarán para predecir la etiqueta de una muestra desconocida\n",
    "knn = KNeighborsClassifier(n_neighbors=3)\n",
    "\n",
    "# Entrenar el clasificador con el conjunto de entrenamiento\n",
    "knn.fit(X_train, y_train)"
   ]
  },
  {
   "cell_type": "markdown",
   "metadata": {},
   "source": [
    "### 5. Evaluar el modelo"
   ]
  },
  {
   "cell_type": "code",
   "execution_count": 25,
   "metadata": {},
   "outputs": [
    {
     "name": "stdout",
     "output_type": "stream",
     "text": [
      "\n",
      "Reporte de clasificación:\n",
      "                  precision    recall  f1-score   support\n",
      "\n",
      "    Iris-setosa       1.00      1.00      1.00        13\n",
      "Iris-versicolor       1.00      1.00      1.00        18\n",
      " Iris-virginica       1.00      1.00      1.00        14\n",
      "\n",
      "       accuracy                           1.00        45\n",
      "      macro avg       1.00      1.00      1.00        45\n",
      "   weighted avg       1.00      1.00      1.00        45\n",
      "\n"
     ]
    },
    {
     "name": "stderr",
     "output_type": "stream",
     "text": [
      "c:\\Users\\esteb\\anaconda3\\lib\\site-packages\\sklearn\\neighbors\\_classification.py:228: FutureWarning: Unlike other reduction functions (e.g. `skew`, `kurtosis`), the default behavior of `mode` typically preserves the axis it acts along. In SciPy 1.11.0, this behavior will change: the default value of `keepdims` will become False, the `axis` over which the statistic is taken will be eliminated, and the value None will no longer be accepted. Set `keepdims` to True or False to avoid this warning.\n",
      "  mode, _ = stats.mode(_y[neigh_ind, k], axis=1)\n"
     ]
    }
   ],
   "source": [
    "# Realizar predicciones con el conjunto de prueba\n",
    "y_pred = knn.predict(X_test)\n",
    "\n",
    "# Imprimir el reporte de clasificación\n",
    "print(\"\\nReporte de clasificación:\\n\", classification_report(y_test, y_pred))\n"
   ]
  },
  {
   "cell_type": "markdown",
   "metadata": {},
   "source": [
    "### Ejercicio: Entrenar con otro modelo (Arbol de Decisión)"
   ]
  },
  {
   "cell_type": "markdown",
   "metadata": {},
   "source": [
    "Los árboles de decisión son como \"juegos de 20 preguntas\" aplicados a los datos. Imagina que estás tratando de adivinar una fruta y haces preguntas como \"¿Es roja?\", \"¿Es pequeña?\", \"¿Se puede comer la piel?\". Cada pregunta te acerca más a la respuesta, eliminando opciones. De manera similar, un árbol de decisión hace preguntas sobre las características de los datos y, basándose en las respuestas, va dividiendo y categorizando los datos hasta llegar a una conclusión o predicción.\n",
    "\n",
    "Para mayor información: <a href=\"https://www.ibm.com/es-es/topics/decision-trees\">¿Qué son los arboles de Decisión?</a>\n",
    "\n",
    "<center> <img src=https://live.staticflickr.com/65535/40858223093_e4a8be19ab_b.jpg width=\"30%\">"
   ]
  },
  {
   "cell_type": "code",
   "execution_count": 26,
   "metadata": {},
   "outputs": [],
   "source": [
    "from sklearn.tree import DecisionTreeClassifier\n",
    "# Inicializar el clasificador de árbol de decisión\n",
    "dtc = DecisionTreeClassifier()\n",
    "\n",
    "# Entrenar el clasificador con el conjunto de entrenamiento\n",
    "### Tu código aquí ###"
   ]
  },
  {
   "cell_type": "markdown",
   "metadata": {},
   "source": [
    "### Evaluar modelo de Árbol de decisión"
   ]
  },
  {
   "cell_type": "code",
   "execution_count": 27,
   "metadata": {},
   "outputs": [],
   "source": [
    "### Tu código aquí ###"
   ]
  },
  {
   "cell_type": "markdown",
   "metadata": {},
   "source": [
    "## Conclusiones"
   ]
  },
  {
   "cell_type": "markdown",
   "metadata": {},
   "source": [
    "* <b>Facilidad de Aprendizaje de Python:</b> A través de este laboratorio, hemos visto cómo Python, con su sintaxis clara y legible, sirve como un excelente punto de partida para los novatos en programación y en inteligencia artificial. Las estructuras y conceptos básicos, como variables, listas y funciones, establecen una base sólida para exploraciones más avanzadas.\n",
    "\n",
    "* <b>Herramientas Esenciales para el Análisis de Datos:</b> Bibliotecas como Pandas y NumPy simplifican enormemente el proceso de manipulación y análisis de datos, permitiendo transformaciones complejas y cálculos con pocas líneas de código.\n",
    "\n",
    "* <b>Aprendizaje Automático Accesible:</b> Scikit-learn ofrece una amplia gama de herramientas para el aprendizaje automático que son tanto poderosas como accesibles. Hemos demostrado cómo, con un conocimiento básico y unos pocos comandos, es posible entrenar un modelo de clasificación utilizando el conjunto de datos Iris.\n",
    "\n",
    "* <b>Importancia de la Exploración de Datos:</b> Antes de sumergirnos en los modelos avanzados, la exploración y comprensión de nuestros datos es crucial. Las visualizaciones y análisis iniciales no solo nos ayudan a entender la información que estamos manejando, sino que también pueden guiar nuestras decisiones sobre qué modelos y técnicas usar.\n",
    "\n",
    "* <b>El Potencial de la IA y el Aprendizaje Automático:</b> Aunque hemos rascado apenas la superficie, este laboratorio proporciona una muestra del potencial del aprendizaje automático y la IA. Desde simples clasificaciones hasta la predicción de precios de viviendas y mucho más allá, las posibilidades son prácticamente ilimitadas.\n",
    "\n",
    "* <b>Aprendizaje Continuo:</b> La inteligencia artificial es un campo vasto y en constante evolución. Si bien este laboratorio proporcionó una introducción, hay muchas más técnicas, algoritmos y conceptos por descubrir. Es esencial continuar aprendiendo y practicando."
   ]
  },
  {
   "cell_type": "markdown",
   "metadata": {},
   "source": [
    "## Bonus: Redes Neuronales\n",
    "\n",
    "\n",
    "Las redes neuronales pueden entenderse como sistemas de \"cajas mágicas\" conectadas entre sí. Imagina que cada caja recibe una o más señales, realiza una pequeña operación o cálculo con esas señales, y luego envía una nueva señal a otras cajas.\n",
    "\n",
    "Puedes pensar en estas cajas como \"neuronas artificiales\", y el proceso es algo similar a cómo las neuronas en nuestro cerebro procesan y transmiten información a través de impulsos eléctricos.\n",
    "\n",
    "Cuando deseas enseñarle algo a esta red de cajas conectadas, les presentas datos (como imágenes o números) y les dices qué tipo de señales esperas al final. Al principio, las cajas no hacen un buen trabajo procesando las señales, pero poco a poco, ajustan sus cálculos internos hasta que empiezan a dar las respuestas correctas. Este proceso de ajuste es lo que llamamos \"entrenamiento\".\n",
    "\n",
    "En resumen, las redes neuronales son sistemas que imitan cómo trabajan las neuronas en el cerebro, conectándose entre sí y ajustando sus operaciones internas para procesar información y aprender de los datos.\n",
    "\n",
    "<center> <img src=\"https://miro.medium.com/v2/resize:fit:720/1*-eLjPY7UGSoQhSyW5qC6gw.gif\" width=\"30%\">"
   ]
  },
  {
   "cell_type": "code",
   "execution_count": 1,
   "metadata": {},
   "outputs": [],
   "source": [
    "# Preparación e Importación de Bibliotecas\n",
    "import numpy as np\n",
    "import tensorflow as tf\n",
    "from tensorflow import keras"
   ]
  },
  {
   "cell_type": "markdown",
   "metadata": {},
   "source": [
    "### Datos de Ejemplo\n",
    "\n",
    "Supongamos que estos son los precios históricos de casas (en miles de dólares):"
   ]
  },
  {
   "cell_type": "code",
   "execution_count": 14,
   "metadata": {},
   "outputs": [],
   "source": [
    "casas = np.array([150, 180, 200, 220, 240, 260, 280, 290, 310, 330], dtype=float)"
   ]
  },
  {
   "cell_type": "markdown",
   "metadata": {},
   "source": [
    "### Crear y Entrenar el modelo\n",
    "\n",
    "Vamos a crear un modelo simple, compilarlo y entrenarlo, todo en unos pocos pasos."
   ]
  },
  {
   "cell_type": "code",
   "execution_count": 15,
   "metadata": {},
   "outputs": [],
   "source": [
    "X = casas[:-1] # Tomamos todos los valores menos el último\n",
    "Y = casas[1:] # Tomamos todos los valores menos el primero\n",
    "\n",
    "# Redimensionamos para que tenga el formato adecuado para Keras\n",
    "X = X.reshape(-1, 1)\n",
    "Y = Y.reshape(-1, 1) "
   ]
  },
  {
   "cell_type": "code",
   "execution_count": 25,
   "metadata": {},
   "outputs": [
    {
     "name": "stdout",
     "output_type": "stream",
     "text": [
      "Epoch 1/10\n"
     ]
    },
    {
     "name": "stdout",
     "output_type": "stream",
     "text": [
      "1/1 [==============================] - 0s 376ms/step - loss: 83960.2500\n",
      "Epoch 2/10\n",
      "1/1 [==============================] - 0s 2ms/step - loss: 83705.1016\n",
      "Epoch 3/10\n",
      "1/1 [==============================] - 0s 3ms/step - loss: 83451.5547\n",
      "Epoch 4/10\n",
      "1/1 [==============================] - 0s 2ms/step - loss: 83199.5859\n",
      "Epoch 5/10\n",
      "1/1 [==============================] - 0s 3ms/step - loss: 82949.2344\n",
      "Epoch 6/10\n",
      "1/1 [==============================] - 0s 3ms/step - loss: 82700.5391\n",
      "Epoch 7/10\n",
      "1/1 [==============================] - 0s 2ms/step - loss: 82453.4766\n",
      "Epoch 8/10\n",
      "1/1 [==============================] - 0s 3ms/step - loss: 82208.0938\n",
      "Epoch 9/10\n",
      "1/1 [==============================] - 0s 3ms/step - loss: 81964.4062\n",
      "Epoch 10/10\n",
      "1/1 [==============================] - 0s 2ms/step - loss: 81722.4062\n"
     ]
    },
    {
     "data": {
      "text/plain": [
       "<keras.src.callbacks.History at 0x1c05b9de6d0>"
      ]
     },
     "execution_count": 25,
     "metadata": {},
     "output_type": "execute_result"
    }
   ],
   "source": [
    "from keras.models import Sequential\n",
    "from keras.layers import Dense\n",
    "\n",
    "model = Sequential() # Inicializamos el modelo \n",
    "model.add(Dense(10, input_dim=1, activation='relu')) # Capa de entrada con 10 neuronas\n",
    "model.add(Dense(10, activation='relu')) # Capa oculta con 10 neuronas\n",
    "model.add(Dense(1, activation='linear')) # Capa de salida con 1 neurona\n",
    "\n",
    "model.compile(optimizer='adam', loss='mean_squared_error') # Compilamos el modelo\n",
    "model.fit(X, Y, epochs=10, verbose=1) # Entrenamos el modelo, Cambia el valor de epochs para ver cómo afecta al resultado\n"
   ]
  },
  {
   "cell_type": "code",
   "execution_count": 26,
   "metadata": {},
   "outputs": [
    {
     "name": "stdout",
     "output_type": "stream",
     "text": [
      "1/1 [==============================] - 0s 44ms/step\n",
      "Último valor real: 330.0\n",
      "Predicción para el siguiente valor: -33.24718475341797\n"
     ]
    }
   ],
   "source": [
    "last_value = casas[-1] # Tomamos el último valor de la lista\n",
    "predicted = model.predict(np.array([[last_value]])) # Predecimos el siguiente valor\n",
    "\n",
    "print(f\"Último valor real: {last_value}\")\n",
    "print(f\"Predicción para el siguiente valor: {predicted[0][0]}\")\n",
    "\n"
   ]
  },
  {
   "cell_type": "markdown",
   "metadata": {},
   "source": [
    "## Recursos"
   ]
  },
  {
   "cell_type": "markdown",
   "metadata": {},
   "source": [
    "* <a href=\"https://link.springer.com/book/10.1007/978-3-031-33342-2\">Machine Learning with Python Theory and Implementation</a>\n",
    "* <a href=\"https://www.nrigroupindia.com/e-book/Introduction%20to%20Machine%20Learning%20with%20Python%20(%20PDFDrive.com%20)-min.pdf\">Introduction to Machine Learning with Python</a>\n",
    "* <a href=\"https://www.aprendemachinelearning.com/una-sencilla-red-neuronal-en-python-con-keras-y-tensorflow/\">Una sencilla Red Neuronal en Python con Keras y Tensorflow</a>\n",
    "* <a href=\"https://deeplearning.neuromatch.io/tutorials/intro.html\">Neuromatch Academy: Deep Learning</a>"
   ]
  }
 ],
 "metadata": {
  "kernelspec": {
   "display_name": "base",
   "language": "python",
   "name": "python3"
  },
  "language_info": {
   "codemirror_mode": {
    "name": "ipython",
    "version": 3
   },
   "file_extension": ".py",
   "mimetype": "text/x-python",
   "name": "python",
   "nbconvert_exporter": "python",
   "pygments_lexer": "ipython3",
   "version": "3.9.13"
  },
  "orig_nbformat": 4
 },
 "nbformat": 4,
 "nbformat_minor": 2
}
